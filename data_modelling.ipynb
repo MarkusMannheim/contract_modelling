{
 "cells": [
  {
   "cell_type": "code",
   "execution_count": 1,
   "metadata": {},
   "outputs": [
    {
     "data": {
      "text/plain": [
       "Technology\n",
       "Solar    16\n",
       "Wind     26\n",
       "dtype: int64"
      ]
     },
     "execution_count": 1,
     "metadata": {},
     "output_type": "execute_result"
    }
   ],
   "source": [
    "# Data handling\n",
    "import numpy as np\n",
    "import os\n",
    "import pandas as pd\n",
    "\n",
    "# Visualisation\n",
    "import matplotlib.pyplot as plt\n",
    "import matplotlib as mpl\n",
    "import seaborn as sns\n",
    "\n",
    "# Custom functions\n",
    "from scripts.common_functions import python_setup, save_figure\n",
    "\n",
    "# Set up Python\n",
    "working_dir, charts_dir, data_dir = python_setup(2)\n",
    "\n",
    "# Get generator details\n",
    "sa_gen_info = pd.read_csv(\n",
    "    os.path.join(data_dir, \"sa_duids.csv\"),\n",
    "    index_col=0).dropna()\n",
    "\n",
    "# Count DUIDs used in analysis\n",
    "sa_gen_info.groupby(\"Technology\").size()"
   ]
  }
 ],
 "metadata": {
  "kernelspec": {
   "display_name": "Python 3",
   "language": "python",
   "name": "python3"
  },
  "language_info": {
   "codemirror_mode": {
    "name": "ipython",
    "version": 3
   },
   "file_extension": ".py",
   "mimetype": "text/x-python",
   "name": "python",
   "nbconvert_exporter": "python",
   "pygments_lexer": "ipython3",
   "version": "3.12.2"
  }
 },
 "nbformat": 4,
 "nbformat_minor": 2
}
