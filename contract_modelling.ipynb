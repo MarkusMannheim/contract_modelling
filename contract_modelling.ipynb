{
 "cells": [
  {
   "cell_type": "markdown",
   "metadata": {},
   "source": [
    "#### **NEM Review contract co-design workshop**\n",
    "\n",
    "# Contract financial performance modelling\n",
    "\n",
    "## Prepare data\n",
    "\n",
    "### Access generators from latest Generation Information"
   ]
  },
  {
   "cell_type": "code",
   "execution_count": 1,
   "metadata": {},
   "outputs": [
    {
     "ename": "ModuleNotFoundError",
     "evalue": "No module named 'Scripts.functions'",
     "output_type": "error",
     "traceback": [
      "\u001b[1;31m---------------------------------------------------------------------------\u001b[0m",
      "\u001b[1;31mModuleNotFoundError\u001b[0m                       Traceback (most recent call last)",
      "Cell \u001b[1;32mIn[1], line 5\u001b[0m\n\u001b[0;32m      3\u001b[0m \u001b[38;5;28;01mimport\u001b[39;00m\u001b[38;5;250m \u001b[39m\u001b[38;5;21;01mos\u001b[39;00m\u001b[38;5;241m,\u001b[39m\u001b[38;5;250m \u001b[39m\u001b[38;5;21;01mpandas\u001b[39;00m\u001b[38;5;250m \u001b[39m\u001b[38;5;28;01mas\u001b[39;00m\u001b[38;5;250m \u001b[39m\u001b[38;5;21;01mpd\u001b[39;00m\u001b[38;5;241m,\u001b[39m\u001b[38;5;250m \u001b[39m\u001b[38;5;21;01mseaborn\u001b[39;00m\u001b[38;5;250m \u001b[39m\u001b[38;5;28;01mas\u001b[39;00m\u001b[38;5;250m \u001b[39m\u001b[38;5;21;01msns\u001b[39;00m\u001b[38;5;241m,\u001b[39m\u001b[38;5;250m \u001b[39m\u001b[38;5;21;01mstatsmodels\u001b[39;00m\u001b[38;5;21;01m.\u001b[39;00m\u001b[38;5;21;01mapi\u001b[39;00m\u001b[38;5;250m \u001b[39m\u001b[38;5;28;01mas\u001b[39;00m\u001b[38;5;250m \u001b[39m\u001b[38;5;21;01msm\u001b[39;00m\n\u001b[0;32m      4\u001b[0m \u001b[38;5;28;01mfrom\u001b[39;00m\u001b[38;5;250m \u001b[39m\u001b[38;5;21;01msqlalchemy\u001b[39;00m\u001b[38;5;250m \u001b[39m\u001b[38;5;28;01mimport\u001b[39;00m create_engine, text\n\u001b[1;32m----> 5\u001b[0m \u001b[38;5;28;01mfrom\u001b[39;00m\u001b[38;5;250m \u001b[39m\u001b[38;5;21;01mScripts\u001b[39;00m\u001b[38;5;21;01m.\u001b[39;00m\u001b[38;5;21;01mfunctions\u001b[39;00m\u001b[38;5;250m \u001b[39m\u001b[38;5;28;01mimport\u001b[39;00m python_setup, get_mms_data\n\u001b[0;32m      7\u001b[0m \u001b[38;5;66;03m# Set up Python\u001b[39;00m\n\u001b[0;32m      8\u001b[0m working_dir, charts_dir, data_dir \u001b[38;5;241m=\u001b[39m python_setup()\n",
      "\u001b[1;31mModuleNotFoundError\u001b[0m: No module named 'Scripts.functions'"
     ]
    }
   ],
   "source": [
    "# Python libraries\n",
    "import matplotlib.pyplot as plt, matplotlib as mpl, numpy as np\n",
    "import os, pandas as pd, seaborn as sns, statsmodels.api as sm\n",
    "from sqlalchemy import create_engine, text\n",
    "from Scripts.functions import python_setup, get_mms_data\n",
    "\n",
    "# Set up Python\n",
    "working_dir, charts_dir, data_dir = python_setup()\n",
    "\n",
    "# Get generator details\n",
    "gen_info = pd.read_excel(\n",
    "    os.path.join(data_dir, \"NEM Generation Information July 2025.xlsx\"),\n",
    "    sheet_name=4,\n",
    "    header=1,\n",
    "    usecols=[0, 1, 2, 5, 6],\n",
    "    names=[\"Region\", \"Status\", \"Name\", \"Technology\", \"DUID\"])\n",
    "\n",
    "# Filter and reformat data\n",
    "gen_info = gen_info[    \n",
    "    # Existing stations only\n",
    "    (gen_info[\"Status\"] == \"Existing Plant\") & \n",
    "    # SA only\n",
    "    (gen_info[\"Region\"] == \"SA1\") & \n",
    "    # Wind and solar only\n",
    "    (gen_info[\"Technology\"].isin([\"Wind - Wind\", \"Solar - Solar\"]))\n",
    "].iloc[:, [2, 3, 4]]\n",
    "# Simplify technology name\n",
    "gen_info[\"Technology\"] = gen_info[\"Technology\"].map(lambda t: t.split(\" - \")[1])\n",
    "\n",
    "# Remove duplicate DUIDs\n",
    "gen_info.drop_duplicates(subset=\"DUID\", keep=\"first\", inplace=True)\n",
    "\n",
    "# Reorder by DUID\n",
    "gen_info.set_index(\"DUID\", inplace=True)\n",
    "\n",
    "# Display DUIDs used in analysis\n",
    "for tech in gen_info[\"Technology\"].value_counts().index:\n",
    "    print(f\"{tech}: {gen_info[\"Technology\"].value_counts().loc[tech]} generators\")"
   ]
  },
  {
   "cell_type": "markdown",
   "metadata": {},
   "source": [
    "### Collect historic DUID data for South Australia\n",
    "\n",
    "If no data yet exists, execute SQL query to collect output, availability and maximum capacity data for each DUID."
   ]
  },
  {
   "cell_type": "code",
   "execution_count": null,
   "metadata": {},
   "outputs": [],
   "source": [
    "# SA DUID data path\n",
    "sa_duid_data_path = os.path.join(data_dir, \"sa_duid_data.csv\")\n",
    "\n",
    "# Check if file exists\n",
    "if not os.path.exists(sa_duid_data_path):\n",
    "    print(\"sa_duid_data.csv not found. Querying database ...\")\n",
    "\n",
    "    # Define DUIDs of interest\n",
    "    duid_list = gen_info.index\n",
    "\n",
    "    # Get generation and price data\n",
    "    sa_duid_data = get_mms_data(\n",
    "        script_name=\"collect_sa_duid_data\",\n",
    "        arguments={\n",
    "            \"start_date\": \"2020-01-01\",\n",
    "            \"end_date\": \"2024-12-31\",\n",
    "            \"duid_list\": \",\".join([f\"'{d}'\" for d in duid_list])})\n",
    "\n",
    "    # Save data to file\n",
    "    sa_duid_data.to_csv(sa_duid_data_path, index=False)    \n",
    "    print(f\"Data saved successfully.\")\n",
    "\n",
    "else:\n",
    "    print(f\"Loading existing sa_duid_data.csv file ...\")\n",
    "    # Load existing data\n",
    "    sa_duid_data = pd.read_csv(\n",
    "        sa_duid_data_path,\n",
    "        parse_dates=[0])\n",
    "\n",
    "# Add name and technology\n",
    "print(\"Joining with gen info data ...\")\n",
    "sa_duid_data[\"Technology\"] = sa_duid_data[\"DUID\"].map(lambda d: gen_info.at[d, \"Technology\"])\n",
    "sa_duid_data[\"Name\"] = sa_duid_data[\"DUID\"].map(lambda d: gen_info.at[d, \"Name\"])\n",
    "\n",
    "# Display market data\n",
    "print(\"Data loaded successfully.\")\n",
    "sa_duid_data"
   ]
  },
  {
   "cell_type": "markdown",
   "metadata": {},
   "source": [
    "### Collect whole-of-market data for South Australia\n",
    "\n",
    "If no data yet exists, execute SQL query to collect SA prices and total demand data."
   ]
  },
  {
   "cell_type": "code",
   "execution_count": null,
   "metadata": {},
   "outputs": [],
   "source": [
    "# SA demand and prices path\n",
    "sa_demand_and_prices_path = os.path.join(data_dir, \"sa_demand_and_prices.csv\")\n",
    "\n",
    "# Check if file exists\n",
    "if not os.path.exists(sa_demand_and_prices_path):\n",
    "    print(\"sa_demand_and_prices.csv not found. Querying database ...\")\n",
    "\n",
    "    # Get generation and price data\n",
    "    sa_demand_and_prices = get_mms_data(\n",
    "        script_name=\"collect_sa_demand_and_prices\",\n",
    "        arguments={\n",
    "            \"start_date\": \"2020-01-01\",\n",
    "            \"end_date\": \"2024-12-31\"})\n",
    "    sa_demand_and_prices.set_index(\"Interval\", inplace=True)\n",
    "\n",
    "    # Save data to file\n",
    "    sa_demand_and_prices.to_csv(sa_demand_and_prices_path)\n",
    "    print(f\"Data saved successfully.\")\n",
    "\n",
    "else:\n",
    "    print(f\"Loading existing sa_demand_and_prices.csv file ...\")\n",
    "    # Load existing data\n",
    "    sa_demand_and_prices = pd.read_csv(\n",
    "        sa_demand_and_prices_path,\n",
    "        parse_dates=[0],\n",
    "        index_col=0)\n",
    "\n",
    "# Display market data\n",
    "print(\"Data loaded successfully.\")\n",
    "sa_demand_and_prices"
   ]
  },
  {
   "cell_type": "markdown",
   "metadata": {},
   "source": [
    "## Observations of SA wind and solar market\n",
    "\n",
    "Calculate and visualise metrics of:\n",
    "* Size of the wind and solar fleets over time (2020 to 2024)\n",
    "* Capacity factors of wind and solar generators\n",
    "* Intraday shape of wind and solar generation, and load\n",
    "* Demand-weighted prices for SA (whole of market), wind and solar\n",
    "\n",
    "### Size of wind and solar fleets"
   ]
  },
  {
   "cell_type": "code",
   "execution_count": null,
   "metadata": {},
   "outputs": [],
   "source": [
    "# Identify changes in DUID capacity:\n",
    "for duid in gen_info.index:\n",
    "    name = gen_info.at[duid, \"Name\"]\n",
    "    duid_data = sa_duid_data[sa_duid_data[\"DUID\"] == duid]\n",
    "    capacity_readings = len(duid_data[\"Maximum capacity\"].unique())\n",
    "    if capacity_readings > 1:\n",
    "        print(f\"{duid} ({name}) has {capacity_readings} values of maximum capacity:\")\n"
   ]
  },
  {
   "cell_type": "markdown",
   "metadata": {},
   "source": [
    "### Demand-weighted prices"
   ]
  },
  {
   "cell_type": "code",
   "execution_count": null,
   "metadata": {},
   "outputs": [],
   "source": [
    "sa_demand_and_prices[\"Total value\"] = sa_demand_and_prices.iloc[:, :2].product(axis=1)\n",
    "sa_demand_and_prices_qtr = sa_demand_and_prices.resample(\"QE\").sum()\n",
    "sa_demand_and_prices_qtr[\"DWA price\"] = sa_demand_and_prices_qtr[\"Total value\"] / sa_demand_and_prices_qtr[\"Total demand\"]\n",
    "sa_demand_and_prices_qtr"
   ]
  }
 ],
 "metadata": {
  "kernelspec": {
   "display_name": "Python 3",
   "language": "python",
   "name": "python3"
  },
  "language_info": {
   "codemirror_mode": {
    "name": "ipython",
    "version": 3
   },
   "file_extension": ".py",
   "mimetype": "text/x-python",
   "name": "python",
   "nbconvert_exporter": "python",
   "pygments_lexer": "ipython3",
   "version": "3.12.2"
  }
 },
 "nbformat": 4,
 "nbformat_minor": 2
}
